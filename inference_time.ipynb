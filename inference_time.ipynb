{
 "cells": [
  {
   "cell_type": "code",
   "execution_count": 1,
   "metadata": {},
   "outputs": [
    {
     "name": "stderr",
     "output_type": "stream",
     "text": [
      "/home/tejasram/miniconda3/envs/langchain_pdf/lib/python3.11/site-packages/tqdm/auto.py:21: TqdmWarning: IProgress not found. Please update jupyter and ipywidgets. See https://ipywidgets.readthedocs.io/en/stable/user_install.html\n",
      "  from .autonotebook import tqdm as notebook_tqdm\n"
     ]
    }
   ],
   "source": [
    "from transformers import AutoModelForCausalLM, AutoTokenizer, TextStreamer,pipeline\n",
    "\n",
    "model_name_or_path = \"TheBloke/Mistral-7B-Instruct-v0.2-AWQ\"\n",
    "\n",
    "tokenizer = AutoTokenizer.from_pretrained(model_name_or_path)\n",
    "model = AutoModelForCausalLM.from_pretrained(\n",
    "    model_name_or_path,\n",
    "    low_cpu_mem_usage=True,\n",
    "    device_map=\"cuda:0\"\n",
    ")\n",
    "\n",
    "# Using the text streamer to stream output one token at a time\n",
    "streamer = TextStreamer(tokenizer, skip_prompt=True, skip_special_tokens=True)\n",
    "\n",
    "\n",
    "generation_params = {\n",
    "    \"do_sample\": True,\n",
    "    \"temperature\": 0.7,\n",
    "    \"top_p\": 0.95,\n",
    "    \"top_k\": 40,\n",
    "    \"max_new_tokens\": 512,\n",
    "    \"repetition_penalty\": 1.1\n",
    "}"
   ]
  },
  {
   "cell_type": "code",
   "execution_count": 2,
   "metadata": {},
   "outputs": [
    {
     "name": "stderr",
     "output_type": "stream",
     "text": [
      "Setting `pad_token_id` to `eos_token_id`:2 for open-end generation.\n"
     ]
    },
    {
     "name": "stdout",
     "output_type": "stream",
     "text": [
      "pipeline output:  <s>[INST] Tell me about AI [/INST]\n",
      "\n",
      "Artificial Intelligence (AI) refers to the development of computer systems that can perform tasks that typically require human intelligence. These tasks include learning and adapting to new information, understanding natural language, recognizing patterns, making decisions, and solving problems.\n",
      "\n",
      "There are various types of AI, each with its own specific focus:\n",
      "\n",
      "1. Narrow or Weak AI: This type of AI is designed to perform a single task, such as recognizing speech or playing chess. It relies on pre-programmed rules and data to make decisions and doesn't have the ability to understand or learn outside of its specific domain.\n",
      "2. General or Strong AI: This type of AI is designed to possess the full range of human cognitive abilities and be able to function in any intellectual task that a human being can do. It is still largely theoretical and has not yet been achieved.\n",
      "3. Superintelligent AI: This hypothetical type of AI would surpass human intelligence and be capable of solving complex problems much faster and more efficiently than humans.\n",
      "\n",
      "AI systems can be trained using various techniques, including machine learning, deep learning, and reinforcement learning. Machine learning algorithms allow computers to learn from data without being explicitly programmed, while deep learning focuses on training neural networks to recognize patterns and make decisions based on large amounts of data. Reinforcement learning involves training an AI agent to take actions in an environment to maximize rewards or minimize penalties.\n",
      "\n",
      "AI has numerous applications across industries, including healthcare, finance, education, transportation, and entertainment. It is also being explored for use in fields such as space exploration and environmental sustainability. However, it also raises important ethical and societal concerns, such as job displacement, privacy, and bias.\n"
     ]
    }
   ],
   "source": [
    "pipe = pipeline(\n",
    "    \"text-generation\",\n",
    "    model=model,\n",
    "    tokenizer=tokenizer,\n",
    "    **generation_params\n",
    ")\n",
    "\n",
    "pipe_output = pipe(prompt_template)[0]['generated_text']\n",
    "print(\"pipeline output: \", pipe_output)"
   ]
  },
  {
   "cell_type": "code",
   "execution_count": 3,
   "metadata": {},
   "outputs": [
    {
     "name": "stdout",
     "output_type": "stream",
     "text": [
      "Number of tokens: 366\n"
     ]
    }
   ],
   "source": [
    "# Text to tokenize\n",
    "text = \"\"\"\n",
    "Artificial Intelligence (AI) refers to the development of computer systems that can perform tasks that typically require human intelligence. These tasks include learning and adapting to new information, understanding natural language, recognizing patterns, making decisions, and solving problems.\n",
    "\n",
    "There are various types of AI, each with its own specific focus:\n",
    "\n",
    "1. Narrow or Weak AI: This type of AI is designed to perform a single task, such as recognizing speech or playing chess. It relies on pre-programmed rules and data to make decisions and doesn't have the ability to understand or learn outside of its specific domain.\n",
    "2. General or Strong AI: This type of AI is designed to possess the full range of human cognitive abilities and be able to function in any intellectual task that a human being can do. It is still largely theoretical and has not yet been achieved.\n",
    "3. Superintelligent AI: This hypothetical type of AI would surpass human intelligence and be capable of solving complex problems much faster and more efficiently than humans.\n",
    "\n",
    "AI systems can be trained using various techniques, including machine learning, deep learning, and reinforcement learning. Machine learning algorithms allow computers to learn from data without being explicitly programmed, while deep learning focuses on training neural networks to recognize patterns and make decisions based on large amounts of data. Reinforcement learning involves training an AI agent to take actions in an environment to maximize rewards or minimize penalties.\n",
    "\n",
    "AI has numerous applications across industries, including healthcare, finance, education, transportation, and entertainment. It is also being explored for use in fields such as space exploration and environmental sustainability. However, it also raises important ethical and societal concerns, such as job displacement, privacy, and bias.\n",
    "\"\"\"\n",
    "\n",
    "# Tokenize the text\n",
    "tokens = tokenizer.tokenize(text)\n",
    "\n",
    "# Count the tokens\n",
    "num_tokens = len(tokens)\n",
    "\n",
    "print(\"Number of tokens:\", num_tokens)"
   ]
  }
 ],
 "metadata": {
  "kernelspec": {
   "display_name": "langchain_pdf",
   "language": "python",
   "name": "python3"
  },
  "language_info": {
   "codemirror_mode": {
    "name": "ipython",
    "version": 3
   },
   "file_extension": ".py",
   "mimetype": "text/x-python",
   "name": "python",
   "nbconvert_exporter": "python",
   "pygments_lexer": "ipython3",
   "version": "3.11.7"
  }
 },
 "nbformat": 4,
 "nbformat_minor": 2
}
